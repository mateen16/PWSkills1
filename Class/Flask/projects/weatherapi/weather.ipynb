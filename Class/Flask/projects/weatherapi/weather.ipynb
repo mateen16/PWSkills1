{
 "cells": [
  {
   "cell_type": "code",
   "execution_count": null,
   "metadata": {},
   "outputs": [],
   "source": [
    "# https://api.openweathermap.org/data/2.5/weather"
   ]
  },
  {
   "cell_type": "code",
   "execution_count": null,
   "metadata": {},
   "outputs": [],
   "source": [
    "# https://api.openweathermap.org/data/2.5/weather?q=london&units=metric&appid=36652ae537656a0029379aa39a3bde69"
   ]
  },
  {
   "cell_type": "code",
   "execution_count": 1,
   "metadata": {},
   "outputs": [],
   "source": [
    "url = \"https://api.openweathermap.org/data/2.5/weather\"\n",
    "api_key = \"36652ae537656a0029379aa39a3bde69\""
   ]
  },
  {
   "cell_type": "code",
   "execution_count": 6,
   "metadata": {},
   "outputs": [],
   "source": [
    "params = {\n",
    "    'q':'delhi',\n",
    "    'appid':api_key,\n",
    "    'units':'metric'\n",
    "}"
   ]
  },
  {
   "cell_type": "code",
   "execution_count": 13,
   "metadata": {},
   "outputs": [],
   "source": [
    "import requests"
   ]
  },
  {
   "cell_type": "code",
   "execution_count": 11,
   "metadata": {},
   "outputs": [],
   "source": [
    "data = requests.get(url, params=params)"
   ]
  },
  {
   "cell_type": "code",
   "execution_count": 12,
   "metadata": {},
   "outputs": [
    {
     "data": {
      "text/plain": [
       "{'coord': {'lon': 77.2167, 'lat': 28.6667},\n",
       " 'weather': [{'id': 711,\n",
       "   'main': 'Smoke',\n",
       "   'description': 'smoke',\n",
       "   'icon': '50d'}],\n",
       " 'base': 'stations',\n",
       " 'main': {'temp': 23.05,\n",
       "  'feels_like': 23.08,\n",
       "  'temp_min': 23.05,\n",
       "  'temp_max': 23.05,\n",
       "  'pressure': 1020,\n",
       "  'humidity': 64},\n",
       " 'visibility': 1100,\n",
       " 'wind': {'speed': 0, 'deg': 0},\n",
       " 'clouds': {'all': 17},\n",
       " 'dt': 1697948025,\n",
       " 'sys': {'type': 1,\n",
       "  'id': 9165,\n",
       "  'country': 'IN',\n",
       "  'sunrise': 1697936145,\n",
       "  'sunset': 1697976919},\n",
       " 'timezone': 19800,\n",
       " 'id': 1273294,\n",
       " 'name': 'Delhi',\n",
       " 'cod': 200}"
      ]
     },
     "execution_count": 12,
     "metadata": {},
     "output_type": "execute_result"
    }
   ],
   "source": [
    "data.json()"
   ]
  },
  {
   "cell_type": "code",
   "execution_count": 14,
   "metadata": {},
   "outputs": [
    {
     "data": {
      "text/plain": [
       "{'cod': '400', 'message': 'Nothing to geocode'}"
      ]
     },
     "execution_count": 14,
     "metadata": {},
     "output_type": "execute_result"
    }
   ],
   "source": [
    "url1 = 'https://api.openweathermap.org/data/3.0/onecall?lat=33.44&lon=94.04'\n",
    "\n",
    "data1 = requests.get(url, params = {'appid':api_key})\n",
    "data1.json()"
   ]
  },
  {
   "cell_type": "code",
   "execution_count": null,
   "metadata": {},
   "outputs": [],
   "source": [
    "# 1. Build this app in local\n",
    "# 2. push this in git \n",
    "# 3. deploy in cloud\n",
    "# 4. test it"
   ]
  }
 ],
 "metadata": {
  "kernelspec": {
   "display_name": "Python 3",
   "language": "python",
   "name": "python3"
  },
  "language_info": {
   "codemirror_mode": {
    "name": "ipython",
    "version": 3
   },
   "file_extension": ".py",
   "mimetype": "text/x-python",
   "name": "python",
   "nbconvert_exporter": "python",
   "pygments_lexer": "ipython3",
   "version": "3.9.13"
  }
 },
 "nbformat": 4,
 "nbformat_minor": 2
}
