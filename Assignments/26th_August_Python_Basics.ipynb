{
 "cells": [
  {
   "cell_type": "markdown",
   "id": "78b550b2",
   "metadata": {},
   "source": [
    "#### Basic Level"
   ]
  },
  {
   "cell_type": "code",
   "execution_count": 1,
   "id": "6050d6ab",
   "metadata": {},
   "outputs": [
    {
     "name": "stdout",
     "output_type": "stream",
     "text": [
      "1\n",
      "2\n",
      "3\n",
      "4\n",
      "5\n",
      "6\n",
      "7\n",
      "8\n",
      "9\n",
      "10\n"
     ]
    }
   ],
   "source": [
    "#1. Write a Python program to print the numbers from 1 to 10 using a `for` loop.\n",
    "\n",
    "for i in range(1,11):\n",
    "    print(i)"
   ]
  },
  {
   "cell_type": "code",
   "execution_count": 2,
   "id": "ff082bcb",
   "metadata": {},
   "outputs": [
    {
     "name": "stdout",
     "output_type": "stream",
     "text": [
      "Enter the range of List:10\n",
      "The sum of elements in the list is:55\n"
     ]
    }
   ],
   "source": [
    "#2. Create a program that calculates the sum of all numbers in a list using a `for` loop.\n",
    "\n",
    "n = int(input('Enter the range of List:'))\n",
    "sum=0\n",
    "\n",
    "for i in range(n+1):\n",
    "    sum +=i\n",
    "print(f\"The sum of elements in the list is:{sum}\")\n",
    "    "
   ]
  },
  {
   "cell_type": "code",
   "execution_count": 3,
   "id": "ce0ed7a6",
   "metadata": {},
   "outputs": [
    {
     "name": "stdout",
     "output_type": "stream",
     "text": [
      "Enter a string:abdul\n",
      "ludba"
     ]
    }
   ],
   "source": [
    "#3. Write a program to print the characters of a string in reverse order using a `for` loop.\n",
    "\n",
    "input_str = input(\"Enter a string:\")\n",
    "\n",
    "str_len = len(input_str)\n",
    "\n",
    "j=0\n",
    "\n",
    "for i in range(str_len):\n",
    "    print(input_str[str_len-1-j], end='')\n",
    "    j=j+1"
   ]
  },
  {
   "cell_type": "code",
   "execution_count": 4,
   "id": "cface21d",
   "metadata": {},
   "outputs": [
    {
     "name": "stdout",
     "output_type": "stream",
     "text": [
      "Enter a number: 10\n",
      "3628800\n"
     ]
    }
   ],
   "source": [
    "#4. Develop a program that finds the factorial of a given number using a `for` loop.\n",
    "\n",
    "input_num = int(input(\"Enter a number: \"))\n",
    "result = 1\n",
    "if input_num == 0:\n",
    "    result = 1\n",
    "else:    \n",
    "    for i in range(input_num+1):\n",
    "        if i>1:\n",
    "            result = result*(i)\n",
    "print(result)"
   ]
  },
  {
   "cell_type": "code",
   "execution_count": 5,
   "id": "096a375e",
   "metadata": {},
   "outputs": [
    {
     "name": "stdout",
     "output_type": "stream",
     "text": [
      "Enter a number: 10\n",
      "The multiplication table for the given number\n",
      "---------------------------------------------\n",
      "10 * 1 =  10\n",
      "10 * 2 =  20\n",
      "10 * 3 =  30\n",
      "10 * 4 =  40\n",
      "10 * 5 =  50\n",
      "10 * 6 =  60\n",
      "10 * 7 =  70\n",
      "10 * 8 =  80\n",
      "10 * 9 =  90\n",
      "10 * 10 =  100\n"
     ]
    }
   ],
   "source": [
    "#5. Create a program to print the multiplication table of a given number using a `for` loop.\n",
    "\n",
    "input_num = int(input(\"Enter a number: \"))\n",
    "print(f\"The multiplication table for the given number\")\n",
    "print(f\"---------------------------------------------\")\n",
    "for i in range(1,input_num+1):\n",
    "    print(f\"{input_num} * {i} = \", input_num*i)"
   ]
  },
  {
   "cell_type": "code",
   "execution_count": 6,
   "id": "dbd3de17",
   "metadata": {},
   "outputs": [
    {
     "name": "stdout",
     "output_type": "stream",
     "text": [
      "The number of odd numbers: 4\n",
      "The number of even numbers: 3\n"
     ]
    }
   ],
   "source": [
    "#6. Write a program that counts the number of even and odd numbers in a list using a `for` loop.\n",
    "\n",
    "l = [1,2,3,4,5,6,7]\n",
    "\n",
    "odd_nums=0\n",
    "even_nums=0\n",
    "\n",
    "for i in l:\n",
    "    if i%2==0:\n",
    "        even_nums+=1\n",
    "    else:\n",
    "        odd_nums+=1\n",
    "        \n",
    "print(f\"The number of odd numbers: {odd_nums}\")\n",
    "print(f\"The number of even numbers: {even_nums}\")"
   ]
  },
  {
   "cell_type": "code",
   "execution_count": 7,
   "id": "a471e76c",
   "metadata": {},
   "outputs": [
    {
     "name": "stdout",
     "output_type": "stream",
     "text": [
      "The square of 1 is  1\n",
      "The square of 2 is  4\n",
      "The square of 3 is  9\n",
      "The square of 4 is  16\n",
      "The square of 5 is  25\n"
     ]
    }
   ],
   "source": [
    "#7. Develop a program that prints the squares of numbers from 1 to 5 using a `for` loop.\n",
    "\n",
    "for i in range(1,6):\n",
    "    print(f\"The square of {i} is \", i*i)"
   ]
  },
  {
   "cell_type": "code",
   "execution_count": 8,
   "id": "80ff6ecd",
   "metadata": {},
   "outputs": [
    {
     "name": "stdout",
     "output_type": "stream",
     "text": [
      "Enter the string:abdul\n",
      "The length of the input string abdul is 5\n"
     ]
    }
   ],
   "source": [
    "#8. Create a program to find the length of a string without using the `len()` function.\n",
    "\n",
    "input_str = input(\"Enter the string:\")\n",
    "\n",
    "length=0\n",
    "\n",
    "for i in input_str:\n",
    "    length=length+1\n",
    "print(f\"The length of the input string {input_str} is {length}\")"
   ]
  },
  {
   "cell_type": "code",
   "execution_count": 9,
   "id": "65bd3139",
   "metadata": {},
   "outputs": [
    {
     "name": "stdout",
     "output_type": "stream",
     "text": [
      "The average of the given list is: 3.5\n"
     ]
    }
   ],
   "source": [
    "#9. Write a program that calculates the average of a list of numbers using a `for` loop.\n",
    "\n",
    "l=[1,2,3,4,5,6]\n",
    "\n",
    "sum=0\n",
    "count=0\n",
    "\n",
    "for i in l:\n",
    "    count=count+1\n",
    "    sum=sum+i\n",
    "print(f\"The average of the given list is:\",sum/count)\n",
    "    "
   ]
  },
  {
   "cell_type": "code",
   "execution_count": 10,
   "id": "37f5b665",
   "metadata": {},
   "outputs": [
    {
     "name": "stdout",
     "output_type": "stream",
     "text": [
      "Enter a number: 10\n",
      "0\n",
      "1\n",
      "1\n",
      "2\n",
      "3\n",
      "5\n",
      "8\n",
      "13\n",
      "21\n",
      "34\n"
     ]
    }
   ],
   "source": [
    "#10. Develop a program that prints the first `n` Fibonacci numbers using a `for` loop.\n",
    "\n",
    "input_num = int(input(\"Enter a number: \"))\n",
    "\n",
    "a=1\n",
    "b=0\n",
    "\n",
    "for i in range(input_num):\n",
    "    a,b = b,a\n",
    "    b = a + b\n",
    "    print(a)    "
   ]
  },
  {
   "cell_type": "markdown",
   "id": "9c3228ba",
   "metadata": {},
   "source": [
    "#### Intermediate Level\n"
   ]
  },
  {
   "cell_type": "code",
   "execution_count": 54,
   "id": "e9d27b5d",
   "metadata": {},
   "outputs": [
    {
     "name": "stdout",
     "output_type": "stream",
     "text": [
      "Duplicate found: 1\n",
      "Duplicate found: 2\n"
     ]
    }
   ],
   "source": [
    "#11. Write a program to check if a given list contains any duplicates using a `for` loop.\n",
    "\n",
    "l = [0,1,2,3,4,1,2]\n",
    "l1 = []\n",
    "\n",
    "for i in range(len(l)):\n",
    "    for j in range(i+1, len(l)):\n",
    "        if l[i] == l[j]:\n",
    "            print(f\"Duplicate found: {l[i]}\")\n",
    "    "
   ]
  },
  {
   "cell_type": "code",
   "execution_count": 102,
   "id": "79e60a5f",
   "metadata": {},
   "outputs": [
    {
     "name": "stdout",
     "output_type": "stream",
     "text": [
      "Enter the range:10\n",
      "0 is not a prime number\n",
      "1 is not a prime number\n",
      "2 is a prime number\n",
      "3 is a prime number\n",
      "4 is not a prime number\n",
      "5 is a prime number\n",
      "6 is not a prime number\n",
      "7 is a prime number\n",
      "8 is not a prime number\n",
      "9 is not a prime number\n"
     ]
    }
   ],
   "source": [
    "# 12. Create a program that prints the prime numbers in a given range using a `for` loop.\n",
    "\n",
    "input_num = int(input(\"Enter the range:\"))\n",
    "\n",
    "# if input_num in[0,1]:\n",
    "#     print(f\"{input_num} is not a prime number\")\n",
    "# else:\n",
    "#     for i in range(2, input_num):\n",
    "#         if input_num%i == 0:\n",
    "#             print(i)\n",
    "#             print(f\"{input_num} is a prime number\")\n",
    "#             break\n",
    "#         else:\n",
    "#             print(f\"{input_num} is not a prime number\")\n",
    "#             break\n",
    "\n",
    "for num in range(input_num):\n",
    "    if num in[0,1]:\n",
    "        print(f\"{num} is not a prime number\")\n",
    "    else:   \n",
    "        for i in range(2, int(num/2)+1):\n",
    "            if (num % i) == 0:    \n",
    "                print(f\"{num} is not a prime number\")\n",
    "                break\n",
    "        else:\n",
    "            print(f\"{num} is a prime number\")"
   ]
  },
  {
   "cell_type": "code",
   "execution_count": 106,
   "id": "f6a9b8da",
   "metadata": {},
   "outputs": [
    {
     "name": "stdout",
     "output_type": "stream",
     "text": [
      "Enter a string: welcome to python\n",
      "The number of vowels in the string welcome to python is 5\n"
     ]
    }
   ],
   "source": [
    "# 13. Develop a program that counts the number of vowels in a string using a `for` loop.\n",
    "\n",
    "vowels = ['a','e','i','o','u']\n",
    "\n",
    "input_str = input(\"Enter a string: \")\n",
    "\n",
    "count = 0\n",
    "\n",
    "for i in input_str:\n",
    "    if i in vowels:\n",
    "        count +=1\n",
    "        \n",
    "print(f\"The number of vowels in the string {input_str} is {count}\")\n"
   ]
  },
  {
   "cell_type": "code",
   "execution_count": 110,
   "id": "ca4cde5a",
   "metadata": {},
   "outputs": [
    {
     "name": "stdout",
     "output_type": "stream",
     "text": [
      "The maximum element in the 2D list is 11\n"
     ]
    }
   ],
   "source": [
    "# 14. Write a program to find the maximum element in a 2D list using a nested `for` loop.\n",
    "\n",
    "l = [[1,2,11,3,4],[5,9,6,7,8]]\n",
    "\n",
    "l1 = []\n",
    "\n",
    "for i in l:\n",
    "    for j in i:\n",
    "        l1.append(j)\n",
    "        \n",
    "print(f\"The maximum element in the 2D list is {max(l1)}\")"
   ]
  },
  {
   "cell_type": "code",
   "execution_count": 120,
   "id": "a83fd48f",
   "metadata": {},
   "outputs": [
    {
     "name": "stdout",
     "output_type": "stream",
     "text": [
      "Enter the input element3\n",
      "[1, 2, 4, 6, 7]\n"
     ]
    }
   ],
   "source": [
    "# 15. Create a program that removes all occurrences of a specific element from a list using a `for` loop.\n",
    "\n",
    "l = [1,2,3,4,3,6,7,3]\n",
    "\n",
    "input_element = int(input(\"Enter the input element\"))\n",
    "\n",
    "for i in l:\n",
    "    if i == input_element:\n",
    "        l.remove(input_element)\n",
    "\n",
    "print(l)"
   ]
  },
  {
   "cell_type": "code",
   "execution_count": 126,
   "id": "94a7538b",
   "metadata": {},
   "outputs": [
    {
     "name": "stdout",
     "output_type": "stream",
     "text": [
      "1*1 =1\n",
      "1*2 =2\n",
      "1*3 =3\n",
      "1*4 =4\n",
      "1*5 =5\n",
      "1*6 =6\n",
      "1*7 =7\n",
      "1*8 =8\n",
      "1*9 =9\n",
      "1*10 =10\n",
      "2*1 =2\n",
      "2*2 =4\n",
      "2*3 =6\n",
      "2*4 =8\n",
      "2*5 =10\n",
      "2*6 =12\n",
      "2*7 =14\n",
      "2*8 =16\n",
      "2*9 =18\n",
      "2*10 =20\n",
      "3*1 =3\n",
      "3*2 =6\n",
      "3*3 =9\n",
      "3*4 =12\n",
      "3*5 =15\n",
      "3*6 =18\n",
      "3*7 =21\n",
      "3*8 =24\n",
      "3*9 =27\n",
      "3*10 =30\n",
      "4*1 =4\n",
      "4*2 =8\n",
      "4*3 =12\n",
      "4*4 =16\n",
      "4*5 =20\n",
      "4*6 =24\n",
      "4*7 =28\n",
      "4*8 =32\n",
      "4*9 =36\n",
      "4*10 =40\n",
      "5*1 =5\n",
      "5*2 =10\n",
      "5*3 =15\n",
      "5*4 =20\n",
      "5*5 =25\n",
      "5*6 =30\n",
      "5*7 =35\n",
      "5*8 =40\n",
      "5*9 =45\n",
      "5*10 =50\n"
     ]
    }
   ],
   "source": [
    "# 16. Develop a program that generates a multiplication table for numbers from 1 to 5 using a nested `for` loop.\n",
    "\n",
    "\n",
    "for i in range(1,6):\n",
    "    for j in range(1,10+1):\n",
    "        print(f\"{i}*{j} ={i*j}\")"
   ]
  },
  {
   "cell_type": "code",
   "execution_count": 133,
   "id": "ae2f9dbe",
   "metadata": {},
   "outputs": [
    {
     "name": "stdout",
     "output_type": "stream",
     "text": [
      "90°F = 32.22°C\n",
      "85°F = 29.44°C\n",
      "100.75°F = 38.19°C\n"
     ]
    }
   ],
   "source": [
    "# 17. Write a program that converts a list of Fahrenheit temperatures to Celsius using a `for` loop.\n",
    "\n",
    "far_temp_list = [90,85,100.75]\n",
    "\n",
    "for i in far_temp_list:\n",
    "    cel_temp = (i - 32) * (5/9)\n",
    "    print(f\"{i}°F = {round(cel_temp,2)}°C\")\n"
   ]
  },
  {
   "cell_type": "code",
   "execution_count": 136,
   "id": "1559fe5e",
   "metadata": {},
   "outputs": [
    {
     "name": "stdout",
     "output_type": "stream",
     "text": [
      "The common elements present in the two lists are [5]\n"
     ]
    }
   ],
   "source": [
    "# 18. Create a program to print the common elements from two lists using a `for` loop.\n",
    "\n",
    "l1 = [1,2,3,4,5]\n",
    "l2 = [5,6,7,8,9]\n",
    "\n",
    "l3 = []\n",
    "\n",
    "for i in l1:\n",
    "    for j in l2:\n",
    "        if i==j:\n",
    "            l3.append(i)\n",
    "\n",
    "print(f\"The common elements present in the two lists are {l3}\")\n",
    "            "
   ]
  },
  {
   "cell_type": "code",
   "execution_count": 149,
   "id": "1d099de9",
   "metadata": {},
   "outputs": [
    {
     "name": "stdout",
     "output_type": "stream",
     "text": [
      "\n",
      "*\n",
      "**\n",
      "***\n",
      "****\n",
      "*****\n"
     ]
    }
   ],
   "source": [
    "# 19. Develop a program that prints the pattern of right-angled triangles using a `for` loop. Use ‘*’ to draw the\n",
    "# pattern\n",
    "\n",
    "element = \"*\"\n",
    "\n",
    "for i in range(6):\n",
    "    for j in range(i):\n",
    "        print(element, end=\"\")\n",
    "    print(\"\")\n"
   ]
  },
  {
   "cell_type": "code",
   "execution_count": 156,
   "id": "b075465a",
   "metadata": {},
   "outputs": [
    {
     "name": "stdout",
     "output_type": "stream",
     "text": [
      "Enter num1:10\n",
      "Enter num2:20\n",
      "4\n",
      "6\n",
      "The GCD of two numbers is:6\n"
     ]
    }
   ],
   "source": [
    "# 20. Write a program to find the greatest common divisor (GCD) of two numbers using a `for` loop.\n",
    "\n",
    "input_num1 = int(input(\"Enter num1:\"))\n",
    "input_num2 = int(input(\"Enter num2:\"))\n",
    "\n",
    "count_num1 = 0\n",
    "count_num2 = 0\n",
    "   \n",
    "for i in range(1,input_num1+1):\n",
    "    if input_num1%i == 0:\n",
    "        count_num1+=1\n",
    "print(count_num1)\n",
    "\n",
    "for i in range(1,input_num2+1):\n",
    "    if input_num2%i == 0:\n",
    "        count_num2+=1\n",
    "print(count_num2)\n",
    "\n",
    "if count_num1 > count_num2:\n",
    "    print(f\"The GCD of two numbers is:{count_num1}\")\n",
    "else:\n",
    "    print(f\"The GCD of two numbers is:{count_num2}\")"
   ]
  },
  {
   "cell_type": "markdown",
   "id": "efd43721",
   "metadata": {},
   "source": [
    "#### Advanced Level"
   ]
  },
  {
   "cell_type": "code",
   "execution_count": 176,
   "id": "e634edbd",
   "metadata": {},
   "outputs": [
    {
     "ename": "TypeError",
     "evalue": "'int' object is not callable",
     "output_type": "error",
     "traceback": [
      "\u001b[1;31m---------------------------------------------------------------------------\u001b[0m",
      "\u001b[1;31mTypeError\u001b[0m                                 Traceback (most recent call last)",
      "\u001b[1;32m~\\AppData\\Local\\Temp\\ipykernel_8332\\858261128.py\u001b[0m in \u001b[0;36m<module>\u001b[1;34m\u001b[0m\n\u001b[0;32m      3\u001b[0m \u001b[0ml\u001b[0m \u001b[1;33m=\u001b[0m \u001b[1;33m[\u001b[0m\u001b[1;36m11\u001b[0m\u001b[1;33m,\u001b[0m\u001b[1;36m2\u001b[0m\u001b[1;33m,\u001b[0m\u001b[1;36m3\u001b[0m\u001b[1;33m,\u001b[0m\u001b[1;36m4\u001b[0m\u001b[1;33m,\u001b[0m\u001b[1;36m5\u001b[0m\u001b[1;33m]\u001b[0m\u001b[1;33m\u001b[0m\u001b[1;33m\u001b[0m\u001b[0m\n\u001b[0;32m      4\u001b[0m \u001b[1;33m\u001b[0m\u001b[0m\n\u001b[1;32m----> 5\u001b[1;33m \u001b[0mres\u001b[0m \u001b[1;33m=\u001b[0m \u001b[0mlist\u001b[0m\u001b[1;33m(\u001b[0m\u001b[0msum\u001b[0m\u001b[1;33m(\u001b[0m\u001b[0mint\u001b[0m\u001b[1;33m(\u001b[0m\u001b[0mdigit\u001b[0m\u001b[1;33m)\u001b[0m \u001b[1;32mfor\u001b[0m \u001b[0mdigit\u001b[0m \u001b[1;32min\u001b[0m \u001b[0mstr\u001b[0m\u001b[1;33m(\u001b[0m\u001b[0mnum\u001b[0m\u001b[1;33m)\u001b[0m\u001b[1;33m)\u001b[0m \u001b[1;32mfor\u001b[0m \u001b[0mnum\u001b[0m \u001b[1;32min\u001b[0m \u001b[0ml\u001b[0m\u001b[1;33m)\u001b[0m\u001b[1;33m\u001b[0m\u001b[1;33m\u001b[0m\u001b[0m\n\u001b[0m\u001b[0;32m      6\u001b[0m \u001b[1;33m\u001b[0m\u001b[0m\n\u001b[0;32m      7\u001b[0m \u001b[0mprint\u001b[0m\u001b[1;33m(\u001b[0m\u001b[0mres\u001b[0m\u001b[1;33m)\u001b[0m\u001b[1;33m\u001b[0m\u001b[1;33m\u001b[0m\u001b[0m\n",
      "\u001b[1;32m~\\AppData\\Local\\Temp\\ipykernel_8332\\858261128.py\u001b[0m in \u001b[0;36m<genexpr>\u001b[1;34m(.0)\u001b[0m\n\u001b[0;32m      3\u001b[0m \u001b[0ml\u001b[0m \u001b[1;33m=\u001b[0m \u001b[1;33m[\u001b[0m\u001b[1;36m11\u001b[0m\u001b[1;33m,\u001b[0m\u001b[1;36m2\u001b[0m\u001b[1;33m,\u001b[0m\u001b[1;36m3\u001b[0m\u001b[1;33m,\u001b[0m\u001b[1;36m4\u001b[0m\u001b[1;33m,\u001b[0m\u001b[1;36m5\u001b[0m\u001b[1;33m]\u001b[0m\u001b[1;33m\u001b[0m\u001b[1;33m\u001b[0m\u001b[0m\n\u001b[0;32m      4\u001b[0m \u001b[1;33m\u001b[0m\u001b[0m\n\u001b[1;32m----> 5\u001b[1;33m \u001b[0mres\u001b[0m \u001b[1;33m=\u001b[0m \u001b[0mlist\u001b[0m\u001b[1;33m(\u001b[0m\u001b[0msum\u001b[0m\u001b[1;33m(\u001b[0m\u001b[0mint\u001b[0m\u001b[1;33m(\u001b[0m\u001b[0mdigit\u001b[0m\u001b[1;33m)\u001b[0m \u001b[1;32mfor\u001b[0m \u001b[0mdigit\u001b[0m \u001b[1;32min\u001b[0m \u001b[0mstr\u001b[0m\u001b[1;33m(\u001b[0m\u001b[0mnum\u001b[0m\u001b[1;33m)\u001b[0m\u001b[1;33m)\u001b[0m \u001b[1;32mfor\u001b[0m \u001b[0mnum\u001b[0m \u001b[1;32min\u001b[0m \u001b[0ml\u001b[0m\u001b[1;33m)\u001b[0m\u001b[1;33m\u001b[0m\u001b[1;33m\u001b[0m\u001b[0m\n\u001b[0m\u001b[0;32m      6\u001b[0m \u001b[1;33m\u001b[0m\u001b[0m\n\u001b[0;32m      7\u001b[0m \u001b[0mprint\u001b[0m\u001b[1;33m(\u001b[0m\u001b[0mres\u001b[0m\u001b[1;33m)\u001b[0m\u001b[1;33m\u001b[0m\u001b[1;33m\u001b[0m\u001b[0m\n",
      "\u001b[1;31mTypeError\u001b[0m: 'int' object is not callable"
     ]
    }
   ],
   "source": [
    "# 21. Create a program that calculates the sum of the digits of numbers in a list using a list comprehension.\n",
    "\n",
    "l = [11,2,3,4,5]\n",
    "\n",
    "res = list(sum(int(digit) for digit in str(num)) for num in l)\n",
    "\n",
    "print(res)\n",
    "\n",
    "# res = list(sum(int(digit) for digit in str(num)) for num in l)\n",
    "\n",
    "# print(\"List Integer Summation : \" + str(list(res)))\n"
   ]
  },
  {
   "cell_type": "code",
   "execution_count": null,
   "id": "32f50056",
   "metadata": {},
   "outputs": [],
   "source": [
    "22. Write a program to find the prime factors of a given number using a `for` loop and list comprehension.\n",
    "23. Develop a program that extracts unique elements from a list and stores them in a new list using a list\n",
    "comprehension.\n",
    "24. Create a program that generates a list of all palindromic numbers up to a specified limit using a list\n",
    "comprehension.\n",
    "25. Write a program to flatten a nested list using list comprehension.\n",
    "26. Develop a program that computes the sum of even and odd numbers in a list separately using list\n",
    "comprehension.\n",
    "27. Create a program that generates a list of squares of odd numbers between 1 and 10 using list\n",
    "comprehension.\n",
    "28. Write a program that combines two lists into a dictionary using list comprehension.\n",
    "29. Develop a program that extracts the vowels from a string and stores them in a list using list comprehension.\n",
    "30. Create a program that removes all non-numeric characters from a list of strings using list comprehension."
   ]
  }
 ],
 "metadata": {
  "kernelspec": {
   "display_name": "Python 3 (ipykernel)",
   "language": "python",
   "name": "python3"
  },
  "language_info": {
   "codemirror_mode": {
    "name": "ipython",
    "version": 3
   },
   "file_extension": ".py",
   "mimetype": "text/x-python",
   "name": "python",
   "nbconvert_exporter": "python",
   "pygments_lexer": "ipython3",
   "version": "3.9.13"
  }
 },
 "nbformat": 4,
 "nbformat_minor": 5
}
