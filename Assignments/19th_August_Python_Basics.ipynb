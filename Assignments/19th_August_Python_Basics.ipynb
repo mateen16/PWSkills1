{
 "cells": [
  {
   "cell_type": "markdown",
   "id": "939bb110",
   "metadata": {},
   "source": [
    "# Python Basics"
   ]
  },
  {
   "cell_type": "markdown",
   "id": "dc0b026f",
   "metadata": {},
   "source": [
    "#### Python Basic Variable"
   ]
  },
  {
   "cell_type": "code",
   "execution_count": 4,
   "id": "6ac8e905",
   "metadata": {},
   "outputs": [],
   "source": [
    "# 1. Declare two variables, 'x', 'y', and assign them integer values. \n",
    "#    Swap the values of these variables without using any temporary variable.\n"
   ]
  },
  {
   "cell_type": "code",
   "execution_count": 8,
   "id": "ac53824e",
   "metadata": {},
   "outputs": [
    {
     "name": "stdout",
     "output_type": "stream",
     "text": [
      "Before Swapping\n",
      "x: 10, y: 20\n",
      "After Swapping\n",
      "x: 20, y: 10\n"
     ]
    }
   ],
   "source": [
    "x = 10\n",
    "y = 20\n",
    "\n",
    "print(\"Before Swapping\")\n",
    "print(f\"x: {x}, y: {y}\")\n",
    "\n",
    "print(\"After Swapping\")\n",
    "x,y = y,x\n",
    "print(f\"x: {x}, y: {y}\")"
   ]
  },
  {
   "cell_type": "code",
   "execution_count": 11,
   "id": "3dd22452",
   "metadata": {},
   "outputs": [
    {
     "name": "stdout",
     "output_type": "stream",
     "text": [
      "Enter the length: 20\n",
      "Enter the width: 30\n",
      "Area of rectangle for the length:20 and width:30 is 600\n"
     ]
    }
   ],
   "source": [
    "# 2. Create a program that calculates the area of a rectangle. \n",
    "#    Take the length and width as inputs from the user and store them in variables.\n",
    "#    Calculate and display the area.\n",
    "\n",
    "length = int(input(\"Enter the length: \"))\n",
    "width = int(input(\"Enter the width: \"))\n",
    "\n",
    "area_of_rectangle = length * width\n",
    "print(f\"Area of rectangle for the length:{length} and width:{width} is {area_of_rectangle}\")"
   ]
  },
  {
   "cell_type": "code",
   "execution_count": 18,
   "id": "4990c02a",
   "metadata": {},
   "outputs": [
    {
     "name": "stdout",
     "output_type": "stream",
     "text": [
      "Enter Temperature in Celsius (°C): 45\n",
      "Temperature in Farenheit (°F): 113.0\n"
     ]
    }
   ],
   "source": [
    "# 3. Write a python program that converts temperatures from Celcius to Farenheit. \n",
    "#    Take the temperature in Celsius as input, store it in a variable,\n",
    "#    Convert it to Farenheit, and display the result\n",
    "\n",
    "celsius = int(input(\"Enter Temperature in Celsius (°C): \"))\n",
    "\n",
    "farenheit = (celsius * 9/5) + 32\n",
    "\n",
    "print(f\"Temperature in Farenheit (°F): {farenheit}\")"
   ]
  },
  {
   "cell_type": "markdown",
   "id": "1140dbe6",
   "metadata": {},
   "source": [
    "#### String Based Questions"
   ]
  },
  {
   "cell_type": "code",
   "execution_count": 20,
   "id": "fb883471",
   "metadata": {},
   "outputs": [],
   "source": [
    "# 1. Write a python program that takes a string as input and prints the length of the string."
   ]
  },
  {
   "cell_type": "code",
   "execution_count": 22,
   "id": "e1b6d95c",
   "metadata": {},
   "outputs": [
    {
     "name": "stdout",
     "output_type": "stream",
     "text": [
      "Enter String: Abdul Matheen\n",
      "Length of the string Abdul Matheen is 13\n"
     ]
    }
   ],
   "source": [
    "input_str = input(\"Enter String: \")\n",
    "print(f\"Length of the string {input_str} is {len(input_str)}\")"
   ]
  },
  {
   "cell_type": "code",
   "execution_count": 23,
   "id": "8a7e8e28",
   "metadata": {},
   "outputs": [],
   "source": [
    "# 2. Create a program that takes a sentence from the user and count the number of vowels(a,e,i,o,u) in the string."
   ]
  },
  {
   "cell_type": "code",
   "execution_count": 25,
   "id": "f1e11e21",
   "metadata": {},
   "outputs": [
    {
     "name": "stdout",
     "output_type": "stream",
     "text": [
      "Enter Sentence: hello, how are you\n",
      "The number of vowels present in the sentence is: 7\n"
     ]
    }
   ],
   "source": [
    "input_sentence = input(\"Enter Sentence: \")\n",
    "\n",
    "vowels  = ['a','e','i','o','u']\n",
    "\n",
    "counter = 0\n",
    "\n",
    "for i in input_sentence:\n",
    "    if i in vowels:\n",
    "        counter += 1\n",
    "print(f\"The number of vowels present in the sentence is: {counter}\")"
   ]
  },
  {
   "cell_type": "code",
   "execution_count": 36,
   "id": "6b7489f8",
   "metadata": {},
   "outputs": [
    {
     "name": "stdout",
     "output_type": "stream",
     "text": [
      "Enter String: hello\n",
      "Reversed string: olleh\n"
     ]
    }
   ],
   "source": [
    "# 3. Given a string, reverse the order of characters using string slicing and print the reversed string.\n",
    "\n",
    "input_str = input(\"Enter String: \")\n",
    "print(f\"Reversed string: {input_str[::-1]}\")"
   ]
  },
  {
   "cell_type": "code",
   "execution_count": 40,
   "id": "be2291af",
   "metadata": {},
   "outputs": [
    {
     "name": "stdout",
     "output_type": "stream",
     "text": [
      "Enter String: malayalam\n",
      "malayalam is a Palindrome\n"
     ]
    }
   ],
   "source": [
    "# 4. Write a program that takes a string as input and checks if it s palindrome(read the same forwards and backwards)\n",
    "\n",
    "input_str = input(\"Enter String: \")\n",
    "\n",
    "if input_str == input_str[::-1]:\n",
    "    print(f\"{input_str} is a Palindrome\")\n",
    "else:\n",
    "    print(\"Not a Palindrome\")  "
   ]
  },
  {
   "cell_type": "code",
   "execution_count": 43,
   "id": "c5318b37",
   "metadata": {},
   "outputs": [
    {
     "name": "stdout",
     "output_type": "stream",
     "text": [
      "Enter String: s sdf d  dsdf   \n",
      "ssdfddsdf"
     ]
    }
   ],
   "source": [
    "# 5. Create a program that takes a string as input and removes all the spaces from it. Print the modified string without spaces.\n",
    "\n",
    "input_str = input(\"Enter String: \")\n",
    "\n",
    "for i in input_str:\n",
    "    if i !=\" \":\n",
    "        print(i, end=\"\")        "
   ]
  }
 ],
 "metadata": {
  "kernelspec": {
   "display_name": "Python 3 (ipykernel)",
   "language": "python",
   "name": "python3"
  },
  "language_info": {
   "codemirror_mode": {
    "name": "ipython",
    "version": 3
   },
   "file_extension": ".py",
   "mimetype": "text/x-python",
   "name": "python",
   "nbconvert_exporter": "python",
   "pygments_lexer": "ipython3",
   "version": "3.9.13"
  }
 },
 "nbformat": 4,
 "nbformat_minor": 5
}
